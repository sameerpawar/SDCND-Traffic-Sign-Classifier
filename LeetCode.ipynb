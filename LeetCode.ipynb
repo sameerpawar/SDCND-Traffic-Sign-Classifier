{
 "cells": [
  {
   "cell_type": "code",
   "execution_count": 13,
   "metadata": {},
   "outputs": [],
   "source": [
    "import numpy as np\n",
    "\n"
   ]
  },
  {
   "cell_type": "code",
   "execution_count": 18,
   "metadata": {},
   "outputs": [],
   "source": [
    "class Solution:\n",
    "    def twoSum(self, nums, target):\n",
    "        \"\"\"\n",
    "        :type nums: List[int]\n",
    "        :type target: int\n",
    "        :rtype: List[int]\n",
    "        \"\"\"\n",
    "        hashtable = {}\n",
    "        resultstable = {}\n",
    "        indices = []\n",
    "        \n",
    "        for i in range(len(nums)):\n",
    "            hashtable[str(nums[i])] = i\n",
    "        \n",
    "        for i in range(len(nums)):            \n",
    "            idx = hashtable.get(str(target - nums[i]))\n",
    "            # Check if second num is in hashtable\n",
    "            if  idx is not None and idx > i:\n",
    "                indices.append([i, idx])\n",
    "            \n",
    "        return indices\n",
    "        "
   ]
  },
  {
   "cell_type": "code",
   "execution_count": 73,
   "metadata": {},
   "outputs": [],
   "source": [
    "import numpy as np\n",
    "class Solution3sum:\n",
    "    \n",
    "    def threeSum(self, nums):\n",
    "        \"\"\"\n",
    "        :type nums: List[int]\n",
    "        :rtype: List[List[int]]\n",
    "        \"\"\"\n",
    "        hashtable = {}        \n",
    "        threeSums_dict = {}\n",
    "        threeSums_list = []\n",
    "        for i in range(len(nums)):\n",
    "            hashtable[str(nums[i])] = i\n",
    "        \n",
    "        for i in range(len(nums)):            \n",
    "            list2sums = self.twoSum(nums[i+1:], -nums[i])\n",
    "            for (i2,i3) in list2sums:                \n",
    "                i2 = i2 + i + 1\n",
    "                i3 = i3 + i + 1\n",
    "                temp_list = min([nums[i], nums[i2], nums[i3]])\n",
    "                temp_list.sort()\n",
    "                \n",
    "                if threeSums_dict.get(str(temp_list)) is None:\n",
    "                    threeSums_list.append(temp_list)\n",
    "                    threeSums_dict[str(temp_list)] = 1\n",
    "        return threeSums_list\n",
    "    \n",
    "    def twoSum(self, nums, target):\n",
    "        \"\"\"\n",
    "        :type nums: List[int]\n",
    "        :type target: int\n",
    "        :rtype: List[int]\n",
    "        \"\"\"\n",
    "        hashtable = {}            \n",
    "        for i in range(len(nums)):\n",
    "            hashtable[str(nums[i])] = i\n",
    "        \n",
    "        twoSums_list = []        \n",
    "        for i in range(len(nums)):\n",
    "            idx = hashtable.get(str(target - nums[i]))\n",
    "            # Check if second num is in hashtable\n",
    "            if  idx is not None and idx > i:\n",
    "                twoSums_list.append([i, idx])\n",
    "            \n",
    "        return twoSums_list"
   ]
  },
  {
   "cell_type": "code",
   "execution_count": 77,
   "metadata": {},
   "outputs": [
    {
     "name": "stdout",
     "output_type": "stream",
     "text": [
      "[-1, 0, 1, 2, -1, -4, 7]\n"
     ]
    }
   ],
   "source": [
    "nums = [-1,0,1,2,-1,-4]\n",
    "nums.append(7)\n",
    "print(nums)\n"
   ]
  },
  {
   "cell_type": "code",
   "execution_count": 74,
   "metadata": {},
   "outputs": [
    {
     "name": "stdout",
     "output_type": "stream",
     "text": [
      "[[-1, 0, 1], [-1, -1, 2]]\n"
     ]
    }
   ],
   "source": [
    "nums = [-1,0,1,2,-1,-4]\n",
    "print(Solution3sum().threeSum(nums))"
   ]
  }
 ],
 "metadata": {
  "kernelspec": {
   "display_name": "Python 3",
   "language": "python",
   "name": "python3"
  },
  "language_info": {
   "codemirror_mode": {
    "name": "ipython",
    "version": 3
   },
   "file_extension": ".py",
   "mimetype": "text/x-python",
   "name": "python",
   "nbconvert_exporter": "python",
   "pygments_lexer": "ipython3",
   "version": "3.5.2"
  },
  "widgets": {
   "state": {},
   "version": "1.1.2"
  }
 },
 "nbformat": 4,
 "nbformat_minor": 2
}

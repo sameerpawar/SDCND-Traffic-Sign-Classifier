{
 "cells": [
  {
   "cell_type": "markdown",
   "metadata": {},
   "source": [
    "# Self-Driving Car Engineer Nanodegree\n",
    "\n",
    "## Deep Learning\n",
    "\n",
    "## Project: Build a Traffic Sign Recognition Classifier\n",
    "\n",
    "In this notebook, a template is provided for you to implement your functionality in stages, which is required to successfully complete this project. If additional code is required that cannot be included in the notebook, be sure that the Python code is successfully imported and included in your submission if necessary. \n",
    "\n",
    "> **Note**: Once you have completed all of the code implementations, you need to finalize your work by exporting the iPython Notebook as an HTML document. Before exporting the notebook to html, all of the code cells need to have been run so that reviewers can see the final implementation and output. You can then export the notebook by using the menu above and navigating to  \\n\",\n",
    "    \"**File -> Download as -> HTML (.html)**. Include the finished document along with this notebook as your submission. \n",
    "\n",
    "In addition to implementing code, there is a writeup to complete. The writeup should be completed in a separate file, which can be either a markdown file or a pdf document. There is a [write up template](https://github.com/udacity/CarND-Traffic-Sign-Classifier-Project/blob/master/writeup_template.md) that can be used to guide the writing process. Completing the code template and writeup template will cover all of the [rubric points](https://review.udacity.com/#!/rubrics/481/view) for this project.\n",
    "\n",
    "The [rubric](https://review.udacity.com/#!/rubrics/481/view) contains \"Stand Out Suggestions\" for enhancing the project beyond the minimum requirements. The stand out suggestions are optional. If you decide to pursue the \"stand out suggestions\", you can include the code in this Ipython notebook and also discuss the results in the writeup file.\n",
    "\n",
    "\n",
    ">**Note:** Code and Markdown cells can be executed using the **Shift + Enter** keyboard shortcut. In addition, Markdown cells can be edited by typically double-clicking the cell to enter edit mode."
   ]
  },
  {
   "cell_type": "markdown",
   "metadata": {},
   "source": [
    "---\n",
    "## Step 0: Load The Data"
   ]
  },
  {
   "cell_type": "code",
   "execution_count": 1,
   "metadata": {},
   "outputs": [],
   "source": [
    "import pickle\n",
    "import numpy as np\n",
    "import tensorflow as tf\n",
    "import matplotlib.pyplot as plt\n",
    "# Visualizations will be shown in the notebook.\n",
    "%matplotlib inline\n",
    "\n",
    "\n",
    "MODIFIED_LENET = False\n",
    "PREPROCESSING = True\n",
    "NORM_GRAY = True\n",
    "DISPLAYSAMPLES = True\n",
    "TRAIN_MODEL = True\n",
    "EVALUATE = True\n",
    "PRINT_DATASET_STAT = True\n",
    "DATA_VISUALIZATION = True"
   ]
  },
  {
   "cell_type": "code",
   "execution_count": 2,
   "metadata": {},
   "outputs": [],
   "source": [
    "# Load pickled data\n",
    "training_file = './traffic-signs-data/train.p'\n",
    "validation_file= './traffic-signs-data/valid.p'\n",
    "testing_file = './traffic-signs-data/test.p'\n",
    "\n",
    "with open(training_file, mode='rb') as f:\n",
    "    train = pickle.load(f)\n",
    "with open(validation_file, mode='rb') as f:\n",
    "    valid = pickle.load(f)\n",
    "with open(testing_file, mode='rb') as f:\n",
    "    test = pickle.load(f)\n",
    "    \n",
    "X_train, y_train = train['features'], train['labels']\n",
    "X_valid, y_valid = valid['features'], valid['labels']\n",
    "X_test, y_test = test['features'], test['labels']"
   ]
  },
  {
   "cell_type": "markdown",
   "metadata": {},
   "source": [
    "---\n",
    "\n",
    "## Step 1: Dataset Summary & Exploration\n",
    "\n",
    "The pickled data is a dictionary with 4 key/value pairs:\n",
    "\n",
    "- `'features'` is a 4D array containing raw pixel data of the traffic sign images, (num examples, width, height, channels).\n",
    "- `'labels'` is a 1D array containing the label/class id of the traffic sign. The file `signnames.csv` contains id -> name mappings for each id.\n",
    "- `'sizes'` is a list containing tuples, (width, height) representing the original width and height the image.\n",
    "- `'coords'` is a list containing tuples, (x1, y1, x2, y2) representing coordinates of a bounding box around the sign in the image. **THESE COORDINATES ASSUME THE ORIGINAL IMAGE. THE PICKLED DATA CONTAINS RESIZED VERSIONS (32 by 32) OF THESE IMAGES**\n",
    "\n",
    "Complete the basic data summary below. Use python, numpy and/or pandas methods to calculate the data summary rather than hard coding the results. For example, the [pandas shape method](http://pandas.pydata.org/pandas-docs/stable/generated/pandas.DataFrame.shape.html) might be useful for calculating some of the summary results. "
   ]
  },
  {
   "cell_type": "markdown",
   "metadata": {},
   "source": [
    "### Provide a Basic Summary of the Data Set Using Python, Numpy and/or Pandas"
   ]
  },
  {
   "cell_type": "code",
   "execution_count": 3,
   "metadata": {},
   "outputs": [
    {
     "name": "stdout",
     "output_type": "stream",
     "text": [
      "Number of training examples = 34799\n",
      "Number of validation examples = 4410\n",
      "Number of testing examples = 12630\n",
      "Image data shape = [32 32]\n",
      "Number of classes = 43\n",
      "(34799, 32, 32, 3)\n"
     ]
    }
   ],
   "source": [
    "### Replace each question mark with the appropriate value. \n",
    "### Use python, pandas or numpy methods rather than hard coding the results\n",
    "\n",
    "# TODO: Number of training examples\n",
    "n_train = X_train.shape[0]\n",
    "\n",
    "# TODO: Number of validation examples\n",
    "n_valid = X_valid.shape[0]\n",
    "\n",
    "# TODO: Number of testing examples.\n",
    "n_test = X_test.shape[0]\n",
    "\n",
    "# TODO: What's the shape of an traffic sign image?\n",
    "image_shape = np.array([X_train.shape[1], X_train.shape[2]])\n",
    "\n",
    "# TODO: How many unique classes/labels there are in the dataset.\n",
    "N_CLASSES = len(np.unique(y_train))\n",
    "\n",
    "if PRINT_DATASET_STAT:\n",
    "    print(\"Number of training examples =\", n_train)\n",
    "    print(\"Number of validation examples =\", n_valid)\n",
    "    print(\"Number of testing examples =\", n_test)\n",
    "    print(\"Image data shape =\", image_shape)\n",
    "    print(\"Number of classes =\", N_CLASSES)\n",
    "    print(X_train.shape)"
   ]
  },
  {
   "cell_type": "markdown",
   "metadata": {},
   "source": [
    "### Include an exploratory visualization of the dataset"
   ]
  },
  {
   "cell_type": "markdown",
   "metadata": {},
   "source": [
    "Visualize the German Traffic Signs Dataset using the pickled file(s). This is open ended, suggestions include: plotting traffic sign images, plotting the count of each sign, etc. \n",
    "\n",
    "The [Matplotlib](http://matplotlib.org/) [examples](http://matplotlib.org/examples/index.html) and [gallery](http://matplotlib.org/gallery.html) pages are a great resource for doing visualizations in Python.\n",
    "\n",
    "**NOTE:** It's recommended you start with something simple first. If you wish to do more, come back to it after you've completed the rest of the sections. It can be interesting to look at the distribution of classes in the training, validation and test set. Is the distribution the same? Are there more examples of some classes than others?"
   ]
  },
  {
   "cell_type": "code",
   "execution_count": 4,
   "metadata": {},
   "outputs": [
    {
     "data": {
      "image/png": "[encoded data removed]",
      "text/plain": [
       "<matplotlib.figure.Figure at 0x7f3af86cf2e8>"
      ]
     },
     "metadata": {},
     "output_type": "display_data"
    },
    {
     "data": {
      "image/png": "[encoded data removed]",
      "text/plain": [
       "<matplotlib.figure.Figure at 0x7f3af857ee48>"
      ]
     },
     "metadata": {},
     "output_type": "display_data"
    },
    {
     "name": "stdout",
     "output_type": "stream",
     "text": [
      "Distribution of different classes in training is \n",
      " [ 180 1980 2010 1260 1770 1650  360 1290 1260 1320 1800 1170 1890 1920\n",
      "  690  540  360  990 1080  180  300  270  330  450  240 1350  540  210\n",
      "  480  240  390  690  210  599  360 1080  330  180 1860  270  300  210\n",
      "  210]\n"
     ]
    }
   ],
   "source": [
    "### Data exploration visualization code goes here.\n",
    "### Feel free to use as many code cells as needed.\n",
    "import matplotlib.pyplot as plt\n",
    "# Visualizations will be shown in the notebook.\n",
    "%matplotlib inline\n",
    "\n",
    "if DATA_VISUALIZATION:\n",
    "    # Histogram of train\n",
    "    hist_y_train = np.bincount(y_train)\n",
    "    hist_y_valid = np.bincount(y_valid)\n",
    "\n",
    "    nhist_y_train = hist_y_train*100/n_train\n",
    "    nhist_y_valid = hist_y_valid*100/n_valid\n",
    "\n",
    "    y_pos = np.arange(N_CLASSES)\n",
    "    fig, ax = plt.subplots()\n",
    "    ax.bar(y_pos, nhist_y_train, 0.35, align='center', alpha=0.5, color = 'b', label = 'train')\n",
    "    #ax.bar(y_pos, nhist_y_valid, 0.8, align='center', alpha=0.5, color = 'g', label = 'valid')\n",
    "    ax.set_ylabel('Percentage of total samples')\n",
    "    legend = ax.legend(loc='upper center', shadow=True, fontsize='x-large')\n",
    "    plt.show() \n",
    "\n",
    "    fig, ax = plt.subplots()\n",
    "    #ax.bar(y_pos, nhist_y_train, 0.35, align='center', alpha=0.5, color = 'b', label = 'train')\n",
    "    ax.bar(y_pos, nhist_y_valid, 0.8, align='center', alpha=0.5, color = 'g', label = 'valid')\n",
    "    ax.set_ylabel('Percentage of total samples')\n",
    "    legend = ax.legend(loc='upper center', shadow=True, fontsize='x-large')\n",
    "    plt.show() \n",
    "   \n",
    "    print(\"Distribution of different classes in training is \\n\", (hist_y_train))\n",
    "    \n",
    "\n"
   ]
  },
  {
   "cell_type": "code",
   "execution_count": 5,
   "metadata": {},
   "outputs": [],
   "source": [
    "import cv2\n",
    "# Display random images of a particular label from the data\n",
    "def display_sign(data_set, y_label, y, num_img):    \n",
    "    data_set = data_set[np.where( y_label == y )]\n",
    "    nSamples = data_set.shape[0]\n",
    "    indices  = np.unique(np.random.randint(nSamples, size = 4*num_img))\n",
    "    indices  = indices[0:num_img]\n",
    "    for idx in indices:\n",
    "        img = data_set[idx]\n",
    "        #img = cv2.cvtColor( img, cv2.COLOR_RGB2YUV)\n",
    "        plt.imshow(img)\n",
    "        plt.show()\n",
    "    \n",
    "    "
   ]
  },
  {
   "cell_type": "code",
   "execution_count": 6,
   "metadata": {},
   "outputs": [
    {
     "data": {
      "image/png": "[encoded data removed]",
      "text/plain": [
       "<matplotlib.figure.Figure at 0x7f3af86d0d68>"
      ]
     },
     "metadata": {},
     "output_type": "display_data"
    },
    {
     "data": {
      "image/png": "[encoded data removed]",
      "text/plain": [
       "<matplotlib.figure.Figure at 0x7f3ade39ec18>"
      ]
     },
     "metadata": {},
     "output_type": "display_data"
    },
    {
     "data": {
      "image/png": "[encoded data removed]",
      "text/plain": [
       "<matplotlib.figure.Figure at 0x7f3af8482518>"
      ]
     },
     "metadata": {},
     "output_type": "display_data"
    },
    {
     "data": {
      "image/png": "[encoded data removed]",
      "text/plain": [
       "<matplotlib.figure.Figure at 0x7f3ade2eef60>"
      ]
     },
     "metadata": {},
     "output_type": "display_data"
    },
    {
     "data": {
      "image/png": "[encoded data removed]",
      "text/plain": [
       "<matplotlib.figure.Figure at 0x7f3ade38df60>"
      ]
     },
     "metadata": {},
     "output_type": "display_data"
    }
   ],
   "source": [
    "if DISPLAYSAMPLES:\n",
    "    label = 23\n",
    "    num_samples = 5\n",
    "    display_sign(X_train,y_train, label,num_samples)"
   ]
  },
  {
   "cell_type": "markdown",
   "metadata": {},
   "source": [
    "----\n",
    "\n",
    "## Step 2: Design and Test a Model Architecture\n",
    "\n",
    "Design and implement a deep learning model that learns to recognize traffic signs. Train and test your model on the [German Traffic Sign Dataset](http://benchmark.ini.rub.de/?section=gtsrb&subsection=dataset).\n",
    "\n",
    "The LeNet-5 implementation shown in the [classroom](https://classroom.udacity.com/nanodegrees/nd013/parts/fbf77062-5703-404e-b60c-95b78b2f3f9e/modules/6df7ae49-c61c-4bb2-a23e-6527e69209ec/lessons/601ae704-1035-4287-8b11-e2c2716217ad/concepts/d4aca031-508f-4e0b-b493-e7b706120f81) at the end of the CNN lesson is a solid starting point. You'll have to change the number of classes and possibly the preprocessing, but aside from that it's plug and play! \n",
    "\n",
    "With the LeNet-5 solution from the lecture, you should expect a validation set accuracy of about 0.89. To meet specifications, the validation set accuracy will need to be at least 0.93. It is possible to get an even higher accuracy, but 0.93 is the minimum for a successful project submission. \n",
    "\n",
    "There are various aspects to consider when thinking about this problem:\n",
    "\n",
    "- Neural network architecture (is the network over or underfitting?)\n",
    "- Play around preprocessing techniques (normalization, rgb to grayscale, etc)\n",
    "- Number of examples per label (some have more than others).\n",
    "- Generate fake data.\n",
    "\n",
    "Here is an example of a [published baseline model on this problem](http://yann.lecun.com/exdb/publis/pdf/sermanet-ijcnn-11.pdf). It's not required to be familiar with the approach used in the paper but, it's good practice to try to read papers like these."
   ]
  },
  {
   "cell_type": "markdown",
   "metadata": {},
   "source": [
    "### Pre-process the Data Set (normalization, grayscale, etc.)"
   ]
  },
  {
   "cell_type": "markdown",
   "metadata": {},
   "source": [
    "Minimally, the image data should be normalized so that the data has mean zero and equal variance. For image data, `(pixel - 128)/ 128` is a quick way to approximately normalize the data and can be used in this project. \n",
    "\n",
    "Other pre-processing steps are optional. You can try different techniques to see if it improves performance. \n",
    "\n",
    "Use the code cell (or multiple code cells, if necessary) to implement the first step of your project."
   ]
  },
  {
   "cell_type": "code",
   "execution_count": 7,
   "metadata": {},
   "outputs": [],
   "source": [
    "### Preprocess the data here. It is required to normalize the data. Other preprocessing steps could include \n",
    "### converting to grayscale, etc.\n",
    "### Feel free to use as many code cells as needed.\n",
    "# Display random images of a particular label from the data\n",
    "import cv2\n",
    "def normalize_dataset(data_set):    \n",
    "    n_samples  = data_set.shape[0]\n",
    "    n_channels = data_set.shape[3]\n",
    "    norm_data_set = []\n",
    "    for s in range(n_samples):\n",
    "        img = np.float32(data_set[s])\n",
    "        for ch in range(n_channels):\n",
    "            ch_max = np.max(img[:,:,ch])\n",
    "            ch_min = np.min(img[:,:,ch])\n",
    "            img[:,:,ch] = (img[:,:,ch] - ch_min)/(ch_max-ch_min)        \n",
    "        norm_data_set.append(img)\n",
    "    return np.array(norm_data_set)\n",
    "\n",
    "def RGB_2_gray_dataset(data_set):\n",
    "    n_samples  = data_set.shape[0]\n",
    "    grayScale_data_set = []\n",
    "    for s in range(n_samples):\n",
    "        img = cv2.cvtColor(data_set[s], cv2.COLOR_RGB2GRAY)\n",
    "        grayScale_data_set.append(img)\n",
    "\n",
    "    grayScale_data_set = np.expand_dims(grayScale_data_set, axis = 3)    \n",
    "    return grayScale_data_set    "
   ]
  },
  {
   "cell_type": "markdown",
   "metadata": {},
   "source": [
    "# Pre-process the training, validation and test data "
   ]
  },
  {
   "cell_type": "code",
   "execution_count": 8,
   "metadata": {},
   "outputs": [
    {
     "name": "stdout",
     "output_type": "stream",
     "text": [
      "(34799, 32, 32, 1)\n"
     ]
    }
   ],
   "source": [
    "if PREPROCESSING:\n",
    "    if NORM_GRAY:\n",
    "        X_train = RGB_2_gray_dataset(X_train)\n",
    "        X_valid = RGB_2_gray_dataset(X_valid)\n",
    "        X_test  = RGB_2_gray_dataset(X_test)\n",
    "    \n",
    "    X_train = normalize_dataset(X_train)\n",
    "    X_valid = normalize_dataset(X_valid)\n",
    "    X_test  = normalize_dataset(X_test)\n",
    "    print(X_train.shape)\n"
   ]
  },
  {
   "cell_type": "markdown",
   "metadata": {},
   "source": [
    "### Model Architecture"
   ]
  },
  {
   "cell_type": "code",
   "execution_count": 9,
   "metadata": {},
   "outputs": [],
   "source": [
    "### Define your architecture here.\n",
    "### Feel free to use as many code cells as needed.\n",
    "import tensorflow as tf\n",
    "from tensorflow.contrib.layers import flatten\n",
    "\n",
    "def maxpool2d(x, k=2):\n",
    "    return tf.nn.max_pool(\n",
    "        x,\n",
    "        ksize=[1, k, k, 1],\n",
    "        strides=[1, k, k, 1],\n",
    "        padding='SAME')\n",
    "\n",
    "def activation(x):\n",
    "    return tf.nn.dropout(tf.nn.relu(x), keep_prob)\n",
    "\n",
    "def conv2d(x, W, b, strides=1):\n",
    "    x = tf.nn.conv2d(x, W, strides=[1, strides, strides, 1], padding='VALID')\n",
    "    x = tf.nn.bias_add(x, b)\n",
    "    return x\n",
    "\n",
    "def LeNet(x):    \n",
    "    # Arguments used for tf.truncated_normal, randomly defines variables for the weights and biases for each layer\n",
    "    mu = 0\n",
    "    sigma = 0.1    \n",
    "    \n",
    "    # TODO: Layer 1: Convolutional. Input = 32x32. Output = 28x28x6.\n",
    "    # Weights = 5X5X3X6 = 450\n",
    "    # Biases = 6\n",
    "    if NORM_GRAY:\n",
    "        n_channels = 1\n",
    "    else:\n",
    "        n_channels = 3\n",
    "        \n",
    "    filter_H, filter_W, inp_channels, out_channels = [5, 5, n_channels, 6]\n",
    "    wc1 = tf.Variable(tf.truncated_normal([filter_H, filter_W, inp_channels, out_channels], mu, sigma))\n",
    "    bc1 = tf.Variable(tf.zeros(out_channels))    \n",
    "    conv1 = conv2d(x, wc1, bc1)\n",
    "    # TODO: Pooling. Input = 28x28x6. Output = 14x14x6.\n",
    "    maxp1 = maxpool2d(conv1, k=2)\n",
    "    # TODO: Activation. Output = 14x14x6.\n",
    "    conv1_out = activation(maxp1)\n",
    "\n",
    "    \n",
    "    \n",
    "    filter_H, filter_W, inp_channels, out_channels = [5, 5, 6, 16]\n",
    "    wc2 = tf.Variable(tf.truncated_normal([filter_H, filter_W, inp_channels, out_channels], mu, sigma))\n",
    "    bc2 = tf.Variable(tf.zeros(out_channels))    \n",
    "    conv2 = conv2d(conv1_out, wc2, bc2)\n",
    "    # TODO: Pooling. Input = 10x10x16. Output = 5x5x16.\n",
    "    maxp2 = maxpool2d(conv2, k=2)\n",
    "    # TODO: Activation.\n",
    "    conv2_out = activation(maxp2)\n",
    "    \n",
    "    \n",
    "    # TODO: Flatten. Input = 5x5x16. Output = 400.\n",
    "    maxp2 = flatten(conv2_out)\n",
    "\n",
    "    # TODO: Layer 3: Fully Connected. Input = 400. Output = 120.    \n",
    "    # Weights = 400*120 = \n",
    "    # Biases = 120    \n",
    "    fc3_inp = 400\n",
    "    fc3_out = 120\n",
    "    wfc3 = tf.Variable(tf.truncated_normal([fc3_inp, fc3_out], mu, sigma))\n",
    "    bfc3 = tf.Variable(tf.zeros(fc3_out))    \n",
    "    fc3  = tf.add(tf.matmul(maxp2,wfc3),bfc3)\n",
    "    # TODO: Activation.\n",
    "    fc3 = activation(fc3)\n",
    "\n",
    "    # TODO: Layer 4: Fully Connected. Input = 120. Output = 84.\n",
    "    # Weights = 120*84 = 10080\n",
    "    # Biases = 84        \n",
    "    fc4_inp = 120\n",
    "    if MODIFIED_LENET:\n",
    "        fc4_out = N_CLASSES\n",
    "    else:\n",
    "        fc4_out = 84\n",
    "        \n",
    "    wfc4    = tf.Variable(tf.truncated_normal([fc4_inp, fc4_out], mu, sigma))\n",
    "    bfc4    = tf.Variable(tf.zeros(fc4_out))    \n",
    "    fc4     = tf.add(tf.matmul(fc3,wfc4),bfc4)\n",
    "    \n",
    "    if MODIFIED_LENET:\n",
    "        logits = fc4\n",
    "        return logits        \n",
    "    else:\n",
    "        # TODO: Activation.\n",
    "        fc4 = activation(fc4)\n",
    "    \n",
    "    \n",
    "    # TODO: Layer 5: Fully Connected. Input = 84. Output = N_CLASSES.\n",
    "    # Weights = 84*43 = 3612\n",
    "    # Biases = 43        \n",
    "    fc5_inp = 84\n",
    "    fc5_out = N_CLASSES\n",
    "    wfc5    = tf.Variable(tf.truncated_normal([fc5_inp, fc5_out], mu, sigma))\n",
    "    bfc5    = tf.Variable(tf.zeros(fc5_out))    \n",
    "    fc5     = tf.add(tf.matmul(fc4,wfc5),bfc5)\n",
    "        \n",
    "    logits = fc5    \n",
    "    \n",
    "    return logits"
   ]
  },
  {
   "cell_type": "markdown",
   "metadata": {},
   "source": [
    "## Train, Validate and Test the Model"
   ]
  },
  {
   "cell_type": "markdown",
   "metadata": {},
   "source": [
    "A validation set can be used to assess how well the model is performing. A low accuracy on the training and validation\n",
    "sets imply underfitting. A high accuracy on the training set but low accuracy on the validation set implies overfitting."
   ]
  },
  {
   "cell_type": "markdown",
   "metadata": {},
   "source": [
    "### Training Pipeline\n"
   ]
  },
  {
   "cell_type": "code",
   "execution_count": 10,
   "metadata": {},
   "outputs": [],
   "source": [
    "EPOCHS = 20\n",
    "BATCH_SIZE = 128"
   ]
  },
  {
   "cell_type": "code",
   "execution_count": 11,
   "metadata": {},
   "outputs": [
    {
     "name": "stdout",
     "output_type": "stream",
     "text": [
      "WARNING:tensorflow:From <ipython-input-11-e188805fe4cf>:25: softmax_cross_entropy_with_logits (from tensorflow.python.ops.nn_ops) is deprecated and will be removed in a future version.\n",
      "Instructions for updating:\n",
      "\n",
      "Future major versions of TensorFlow will allow gradients to flow\n",
      "into the labels input on backprop by default.\n",
      "\n",
      "See @{tf.nn.softmax_cross_entropy_with_logits_v2}.\n",
      "\n"
     ]
    }
   ],
   "source": [
    "### Train your model here.\n",
    "### Calculate and report the accuracy on the training and validation set.\n",
    "### Once a final model architecture is selected, \n",
    "### the accuracy on the test set should be calculated and reported as well.\n",
    "### Feel free to use as many code cells as needed.\n",
    "\n",
    "if NORM_GRAY:\n",
    "    n_channels = 1\n",
    "else:\n",
    "    n_channels = 3\n",
    "\n",
    "\n",
    "x = tf.placeholder(tf.float32, (None, 32, 32, n_channels))\n",
    "y = tf.placeholder(tf.int32, (None))\n",
    "\n",
    "# Regularization\n",
    "keep_prob = tf.placeholder(tf.float32)\n",
    "\n",
    "\n",
    "one_hot_y = tf.one_hot(y, N_CLASSES)\n",
    "\n",
    "rate = 0.001\n",
    "\n",
    "logits = LeNet(x)\n",
    "cross_entropy = tf.nn.softmax_cross_entropy_with_logits(labels=one_hot_y, logits=logits)\n",
    "loss_operation = tf.reduce_mean(cross_entropy)\n",
    "optimizer = tf.train.AdamOptimizer(learning_rate = rate)\n",
    "training_operation = optimizer.minimize(loss_operation)\n"
   ]
  },
  {
   "cell_type": "markdown",
   "metadata": {},
   "source": [
    "## Validate the model"
   ]
  },
  {
   "cell_type": "code",
   "execution_count": 12,
   "metadata": {},
   "outputs": [],
   "source": [
    "prediction = tf.argmax(logits, 1)\n",
    "correct_prediction = tf.equal(prediction, tf.argmax(one_hot_y, 1))\n",
    "accuracy_operation = tf.reduce_mean(tf.cast(correct_prediction, tf.float32))\n",
    "saver = tf.train.Saver()\n",
    "\n",
    "def evaluate(X_data, y_data):\n",
    "    num_examples = len(X_data)\n",
    "    total_accuracy = 0\n",
    "    sess = tf.get_default_session()\n",
    "    for offset in range(0, num_examples, BATCH_SIZE):\n",
    "        batch_x, batch_y = X_data[offset:offset+BATCH_SIZE], y_data[offset:offset+BATCH_SIZE]\n",
    "        accuracy = sess.run(accuracy_operation, feed_dict={x: batch_x, y: batch_y, keep_prob: 1})\n",
    "        total_accuracy += (accuracy * len(batch_x))\n",
    "    return total_accuracy / num_examples"
   ]
  },
  {
   "cell_type": "markdown",
   "metadata": {},
   "source": [
    "correct_prediction = tf.equal(tf.argmax(logits, 1), tf.argmax(one_hot_y, 1))\n",
    "accuracy_operation = [tf.reduce_mean(tf.cast(correct_prediction, tf.float32)), correct_prediction]\n",
    "\n",
    "saver = tf.train.Saver()\n",
    "\n",
    "def evaluate(X_data, y_data):\n",
    "    label_accuracy = np.zeros(N_CLASSES)\n",
    "    num_examples = len(X_data)\n",
    "    total_accuracy = 0\n",
    "    sess = tf.get_default_session()\n",
    "    for offset in range(0, num_examples, BATCH_SIZE):\n",
    "        batch_x, batch_y = X_data[offset:offset+BATCH_SIZE], y_data[offset:offset+BATCH_SIZE]\n",
    "        accuracy, correct_prediction = sess.run(accuracy_operation, feed_dict={x: batch_x, y: batch_y, keep_prob: 1})\n",
    "        for lbl in range(N_CLASSES):\n",
    "            label_accuracy[lbl] += np.count_nonzero(lbl == batch_y[np.array(correct_prediction)])\n",
    "        total_accuracy += (accuracy * len(batch_x))\n",
    "    return total_accuracy / num_examples, label_accuracy"
   ]
  },
  {
   "cell_type": "code",
   "execution_count": 13,
   "metadata": {},
   "outputs": [
    {
     "name": "stdout",
     "output_type": "stream",
     "text": [
      "Training...\n",
      "\n",
      "EPOCH 1 ...\n",
      "Training Batch Accuracy = 0.805\n",
      "\n",
      "EPOCH 1 ...\n",
      "Validation Accuracy = 0.751\n",
      "\n",
      "EPOCH 2 ...\n",
      "Training Batch Accuracy = 0.914\n",
      "\n",
      "EPOCH 2 ...\n",
      "Validation Accuracy = 0.827\n",
      "\n",
      "EPOCH 3 ...\n",
      "Training Batch Accuracy = 0.969\n",
      "\n",
      "EPOCH 3 ...\n",
      "Validation Accuracy = 0.853\n",
      "\n",
      "EPOCH 4 ...\n",
      "Training Batch Accuracy = 0.984\n",
      "\n",
      "EPOCH 4 ...\n",
      "Validation Accuracy = 0.873\n",
      "\n",
      "EPOCH 5 ...\n",
      "Training Batch Accuracy = 0.953\n",
      "\n",
      "EPOCH 5 ...\n",
      "Validation Accuracy = 0.880\n",
      "\n",
      "EPOCH 6 ...\n",
      "Training Batch Accuracy = 0.992\n",
      "\n",
      "EPOCH 6 ...\n",
      "Validation Accuracy = 0.905\n",
      "\n",
      "EPOCH 7 ...\n",
      "Training Batch Accuracy = 0.984\n",
      "\n",
      "EPOCH 7 ...\n",
      "Validation Accuracy = 0.898\n",
      "\n",
      "EPOCH 8 ...\n",
      "Training Batch Accuracy = 0.992\n",
      "\n",
      "EPOCH 8 ...\n",
      "Validation Accuracy = 0.906\n",
      "\n",
      "EPOCH 9 ...\n",
      "Training Batch Accuracy = 1.000\n",
      "\n",
      "EPOCH 9 ...\n",
      "Validation Accuracy = 0.912\n",
      "\n",
      "EPOCH 10 ...\n",
      "Training Batch Accuracy = 0.992\n",
      "\n",
      "EPOCH 10 ...\n",
      "Validation Accuracy = 0.891\n",
      "\n",
      "EPOCH 11 ...\n",
      "Training Batch Accuracy = 0.977\n",
      "\n",
      "EPOCH 11 ...\n",
      "Validation Accuracy = 0.898\n",
      "\n",
      "EPOCH 12 ...\n",
      "Training Batch Accuracy = 0.984\n",
      "\n",
      "EPOCH 12 ...\n",
      "Validation Accuracy = 0.905\n",
      "\n",
      "EPOCH 13 ...\n",
      "Training Batch Accuracy = 1.000\n",
      "\n",
      "EPOCH 13 ...\n",
      "Validation Accuracy = 0.906\n",
      "\n",
      "EPOCH 14 ...\n",
      "Training Batch Accuracy = 0.984\n",
      "\n",
      "EPOCH 14 ...\n",
      "Validation Accuracy = 0.905\n",
      "\n",
      "EPOCH 15 ...\n",
      "Training Batch Accuracy = 0.984\n",
      "\n",
      "EPOCH 15 ...\n",
      "Validation Accuracy = 0.907\n",
      "\n",
      "EPOCH 16 ...\n",
      "Training Batch Accuracy = 0.992\n",
      "\n",
      "EPOCH 16 ...\n",
      "Validation Accuracy = 0.921\n",
      "\n",
      "EPOCH 17 ...\n",
      "Training Batch Accuracy = 0.984\n",
      "\n",
      "EPOCH 17 ...\n",
      "Validation Accuracy = 0.912\n",
      "\n",
      "EPOCH 18 ...\n",
      "Training Batch Accuracy = 1.000\n",
      "\n",
      "EPOCH 18 ...\n",
      "Validation Accuracy = 0.922\n",
      "\n",
      "EPOCH 19 ...\n",
      "Training Batch Accuracy = 1.000\n",
      "\n",
      "EPOCH 19 ...\n",
      "Validation Accuracy = 0.917\n",
      "\n",
      "EPOCH 20 ...\n",
      "Training Batch Accuracy = 1.000\n",
      "\n",
      "EPOCH 20 ...\n",
      "Validation Accuracy = 0.913\n",
      "\n",
      "Final Training Accuracy = 0.996\n",
      "\n",
      "Drop out prob = 1\n",
      "Model saved\n"
     ]
    }
   ],
   "source": [
    "from sklearn.utils import shuffle\n",
    "\n",
    "if TRAIN_MODEL:\n",
    "    with tf.Session() as sess:\n",
    "        sess.run(tf.global_variables_initializer())\n",
    "        num_examples = len(X_train)\n",
    "\n",
    "        print(\"Training...\")\n",
    "        print()\n",
    "        Dropout_prob = 1\n",
    "        for i in range(EPOCHS):\n",
    "            X_train, y_train = shuffle(X_train, y_train)\n",
    "            for offset in range(0, num_examples, BATCH_SIZE):\n",
    "                end = offset + BATCH_SIZE\n",
    "                batch_x, batch_y = X_train[offset:end], y_train[offset:end]\n",
    "                sess.run(training_operation, feed_dict={x: batch_x, y: batch_y, keep_prob: Dropout_prob})\n",
    "\n",
    "            training_accuracy = evaluate(X_train[0:BATCH_SIZE], y_train[0:BATCH_SIZE])\n",
    "            print(\"EPOCH {} ...\".format(i+1))\n",
    "            print(\"Training Batch Accuracy = {:.3f}\".format(training_accuracy))\n",
    "            print()\n",
    "\n",
    "            validation_accuracy = evaluate(X_valid, y_valid)\n",
    "            print(\"EPOCH {} ...\".format(i+1))\n",
    "            print(\"Validation Accuracy = {:.3f}\".format(validation_accuracy))\n",
    "            print()\n",
    "\n",
    "        training_accuracy = evaluate(X_train, y_train)\n",
    "        print(\"Final Training Accuracy = {:.3f}\".format(training_accuracy))\n",
    "        print()        \n",
    "        print(\"Drop out prob = {}\".format(Dropout_prob))\n",
    "        saver.save(sess, './lenet')\n",
    "        print(\"Model saved\")"
   ]
  },
  {
   "cell_type": "code",
   "execution_count": null,
   "metadata": {},
   "outputs": [],
   "source": [
    "if EVALUATE:\n",
    "    saver = tf.train.Saver()\n",
    "    with tf.Session() as sess:\n",
    "        saver.restore(sess, './lenet')\n",
    "        X_data = X_test\n",
    "        y_data = y_test\n",
    "        dataset_accuracy = evaluate(X_data, y_data)\n",
    "        print(\"data set accuracy = {}\".format(dataset_accuracy))"
   ]
  },
  {
   "cell_type": "markdown",
   "metadata": {},
   "source": [
    "---\n",
    "\n",
    "## Step 3: Test a Model on New Images\n",
    "\n",
    "To give yourself more insight into how your model is working, download at least five pictures of German traffic signs from the web and use your model to predict the traffic sign type.\n",
    "\n",
    "You may find `signnames.csv` useful as it contains mappings from the class id (integer) to the actual sign name."
   ]
  },
  {
   "cell_type": "markdown",
   "metadata": {},
   "source": [
    "### Load and Output the Images"
   ]
  },
  {
   "cell_type": "code",
   "execution_count": null,
   "metadata": {},
   "outputs": [],
   "source": [
    "### Load the images and plot them here.\n",
    "### Feel free to use as many code cells as needed.\n",
    "import os, os.path\n",
    "import matplotlib.image as mpimage\n",
    "import matplotlib.pyplot as plt\n",
    "import cv2\n",
    "\n",
    "X_test_web = []\n",
    "y_test_web = []\n",
    "path = \"./traffic-signs-data/webimages/\"\n",
    "valid_images = [\".jpg\",\".gif\",\".png\",\".tga\"]\n",
    "for f in os.listdir(path):\n",
    "    ext = os.path.splitext(f)[1]\n",
    "    if ext.lower() not in valid_images:\n",
    "        continue\n",
    "    print('read image = ' + f)\n",
    "    image = mpimage.imread(path+f)\n",
    "    dim = (32, 32)\n",
    "    image = cv2.resize(image, dim, interpolation = cv2.INTER_AREA)\n",
    "    print(image.shape)\n",
    "    X_test_web.append(image)\n",
    "    plt.imshow(image)\n",
    "    plt.show()\n",
    "print(np.array(X_test_web).shape)"
   ]
  },
  {
   "cell_type": "markdown",
   "metadata": {},
   "source": [
    "### Predict the Sign Type for Each Image"
   ]
  },
  {
   "cell_type": "code",
   "execution_count": null,
   "metadata": {},
   "outputs": [],
   "source": [
    "### Run the predictions here and use the model to output the prediction for each image.\n",
    "### Make sure to pre-process the images with the same pre-processing pipeline used earlier.\n",
    "### Feel free to use as many code cells as needed.\n",
    "X_test_web = np.array(X_test_web)\n",
    "X_test_web = RGB_2_gray_dataset(X_test_web)\n",
    "X_test_web = normalize_dataset(X_test_web)\n",
    "y_test_web = np.array([23, 23, 28, 1, 9, 28, 23, 28])"
   ]
  },
  {
   "cell_type": "markdown",
   "metadata": {},
   "source": [
    "### Analyze Performance"
   ]
  },
  {
   "cell_type": "code",
   "execution_count": null,
   "metadata": {},
   "outputs": [],
   "source": [
    "saver = tf.train.Saver()\n",
    "with tf.Session() as sess:\n",
    "    saver.restore(sess, './lenet')\n",
    "    X_data = X_test_web\n",
    "    y_data = y_test_web\n",
    "    dataset_accuracy = evaluate(X_data, y_data)\n",
    "    print(\"data set accuracy = {}\".format(dataset_accuracy))"
   ]
  },
  {
   "cell_type": "markdown",
   "metadata": {},
   "source": [
    "### Output Top 5 Softmax Probabilities For Each Image Found on the Web"
   ]
  },
  {
   "cell_type": "markdown",
   "metadata": {},
   "source": [
    "For each of the new images, print out the model's softmax probabilities to show the **certainty** of the model's predictions (limit the output to the top 5 probabilities for each image). [`tf.nn.top_k`](https://www.tensorflow.org/versions/r0.12/api_docs/python/nn.html#top_k) could prove helpful here. \n",
    "\n",
    "The example below demonstrates how tf.nn.top_k can be used to find the top k predictions for each image.\n",
    "\n",
    "`tf.nn.top_k` will return the values and indices (class ids) of the top k predictions. So if k=3, for each sign, it'll return the 3 largest probabilities (out of a possible 43) and the correspoding class ids.\n",
    "\n",
    "Take this numpy array as an example. The values in the array represent predictions. The array contains softmax probabilities for five candidate images with six possible classes. `tf.nn.top_k` is used to choose the three classes with the highest probability:\n",
    "\n",
    "```\n",
    "# (5, 6) array\n",
    "a = np.array([[ 0.24879643,  0.07032244,  0.12641572,  0.34763842,  0.07893497,\n",
    "         0.12789202],\n",
    "       [ 0.28086119,  0.27569815,  0.08594638,  0.0178669 ,  0.18063401,\n",
    "         0.15899337],\n",
    "       [ 0.26076848,  0.23664738,  0.08020603,  0.07001922,  0.1134371 ,\n",
    "         0.23892179],\n",
    "       [ 0.11943333,  0.29198961,  0.02605103,  0.26234032,  0.1351348 ,\n",
    "         0.16505091],\n",
    "       [ 0.09561176,  0.34396535,  0.0643941 ,  0.16240774,  0.24206137,\n",
    "         0.09155967]])\n",
    "```\n",
    "\n",
    "Running it through `sess.run(tf.nn.top_k(tf.constant(a), k=3))` produces:\n",
    "\n",
    "```\n",
    "TopKV2(values=array([[ 0.34763842,  0.24879643,  0.12789202],\n",
    "       [ 0.28086119,  0.27569815,  0.18063401],\n",
    "       [ 0.26076848,  0.23892179,  0.23664738],\n",
    "       [ 0.29198961,  0.26234032,  0.16505091],\n",
    "       [ 0.34396535,  0.24206137,  0.16240774]]), indices=array([[3, 0, 5],\n",
    "       [0, 1, 4],\n",
    "       [0, 5, 1],\n",
    "       [1, 3, 5],\n",
    "       [1, 4, 3]], dtype=int32))\n",
    "```\n",
    "\n",
    "Looking just at the first row we get `[ 0.34763842,  0.24879643,  0.12789202]`, you can confirm these are the 3 largest probabilities in `a`. You'll also notice `[3, 0, 5]` are the corresponding indices."
   ]
  },
  {
   "cell_type": "code",
   "execution_count": null,
   "metadata": {},
   "outputs": [],
   "source": [
    "### Print out the top five softmax probabilities for the predictions on the German traffic sign images found on the web. \n",
    "### Feel free to use as many code cells as needed.\n",
    "saver = tf.train.Saver()\n",
    "dataset_prediction = []\n",
    "top_k_predictions = []\n",
    "with tf.Session() as sess:\n",
    "    saver.restore(sess, './lenet')\n",
    "    X_data = X_test_web\n",
    "    k = 5\n",
    "    top_k_values, top_k_ind = tf.nn.top_k(tf.nn.softmax(sess.run(logits, feed_dict={x: X_data, keep_prob: 1})), k)\n",
    "    dataset_prediction.append(top_k_ind[1])\n",
    "    top_k_predictions.append(top_k_ind)\n",
    "    print(sess.run(top_k_predictions))"
   ]
  },
  {
   "cell_type": "markdown",
   "metadata": {},
   "source": [
    "### Project Writeup\n",
    "\n",
    "Once you have completed the code implementation, document your results in a project writeup using this [template](https://github.com/udacity/CarND-Traffic-Sign-Classifier-Project/blob/master/writeup_template.md) as a guide. The writeup can be in a markdown or pdf file. "
   ]
  },
  {
   "cell_type": "code",
   "execution_count": null,
   "metadata": {},
   "outputs": [],
   "source": [
    "[23, 23, 28, 1, 9, 28, 23, 28])"
   ]
  },
  {
   "cell_type": "markdown",
   "metadata": {},
   "source": [
    "> **Note**: Once you have completed all of the code implementations and successfully answered each question above, you may finalize your work by exporting the iPython Notebook as an HTML document. You can do this by using the menu above and navigating to  \\n\",\n",
    "    \"**File -> Download as -> HTML (.html)**. Include the finished document along with this notebook as your submission."
   ]
  },
  {
   "cell_type": "markdown",
   "metadata": {},
   "source": [
    "---\n",
    "\n",
    "## Step 4 (Optional): Visualize the Neural Network's State with Test Images\n",
    "\n",
    " This Section is not required to complete but acts as an additional excersise for understaning the output of a neural network's weights. While neural networks can be a great learning device they are often referred to as a black box. We can understand what the weights of a neural network look like better by plotting their feature maps. After successfully training your neural network you can see what it's feature maps look like by plotting the output of the network's weight layers in response to a test stimuli image. From these plotted feature maps, it's possible to see what characteristics of an image the network finds interesting. For a sign, maybe the inner network feature maps react with high activation to the sign's boundary outline or to the contrast in the sign's painted symbol.\n",
    "\n",
    " Provided for you below is the function code that allows you to get the visualization output of any tensorflow weight layer you want. The inputs to the function should be a stimuli image, one used during training or a new one you provided, and then the tensorflow variable name that represents the layer's state during the training process, for instance if you wanted to see what the [LeNet lab's](https://classroom.udacity.com/nanodegrees/nd013/parts/fbf77062-5703-404e-b60c-95b78b2f3f9e/modules/6df7ae49-c61c-4bb2-a23e-6527e69209ec/lessons/601ae704-1035-4287-8b11-e2c2716217ad/concepts/d4aca031-508f-4e0b-b493-e7b706120f81) feature maps looked like for it's second convolutional layer you could enter conv2 as the tf_activation variable.\n",
    "\n",
    "For an example of what feature map outputs look like, check out NVIDIA's results in their paper [End-to-End Deep Learning for Self-Driving Cars](https://devblogs.nvidia.com/parallelforall/deep-learning-self-driving-cars/) in the section Visualization of internal CNN State. NVIDIA was able to show that their network's inner weights had high activations to road boundary lines by comparing feature maps from an image with a clear path to one without. Try experimenting with a similar test to show that your trained network's weights are looking for interesting features, whether it's looking at differences in feature maps from images with or without a sign, or even what feature maps look like in a trained network vs a completely untrained one on the same sign image.\n",
    "\n",
    "<figure>\n",
    " <img src=\"visualize_cnn.png\" width=\"380\" alt=\"Combined Image\" />\n",
    " <figcaption>\n",
    " <p></p> \n",
    " <p style=\"text-align: center;\"> Your output should look something like this (above)</p> \n",
    " </figcaption>\n",
    "</figure>\n",
    " <p></p> \n"
   ]
  },
  {
   "cell_type": "code",
   "execution_count": null,
   "metadata": {},
   "outputs": [],
   "source": [
    "### Visualize your network's feature maps here.\n",
    "### Feel free to use as many code cells as needed.\n",
    "\n",
    "# image_input: the test image being fed into the network to produce the feature maps\n",
    "# tf_activation: should be a tf variable name used during your training procedure that represents the calculated state of a specific weight layer\n",
    "# activation_min/max: can be used to view the activation contrast in more detail, by default matplot sets min and max to the actual min and max values of the output\n",
    "# plt_num: used to plot out multiple different weight feature map sets on the same block, just extend the plt number for each new feature map entry\n",
    "\n",
    "def outputFeatureMap(image_input, tf_activation, activation_min=-1, activation_max=-1 ,plt_num=1):\n",
    "    # Here make sure to preprocess your image_input in a way your network expects\n",
    "    # with size, normalization, ect if needed\n",
    "    # image_input =\n",
    "    # Note: x should be the same name as your network's tensorflow data placeholder variable\n",
    "    # If you get an error tf_activation is not defined it may be having trouble accessing the variable from inside a function\n",
    "    activation = tf_activation.eval(session=sess,feed_dict={x : image_input})\n",
    "    featuremaps = activation.shape[3]\n",
    "    plt.figure(plt_num, figsize=(15,15))\n",
    "    for featuremap in range(featuremaps):\n",
    "        plt.subplot(6,8, featuremap+1) # sets the number of feature maps to show on each row and column\n",
    "        plt.title('FeatureMap ' + str(featuremap)) # displays the feature map number\n",
    "        if activation_min != -1 & activation_max != -1:\n",
    "            plt.imshow(activation[0,:,:, featuremap], interpolation=\"nearest\", vmin =activation_min, vmax=activation_max, cmap=\"gray\")\n",
    "        elif activation_max != -1:\n",
    "            plt.imshow(activation[0,:,:, featuremap], interpolation=\"nearest\", vmax=activation_max, cmap=\"gray\")\n",
    "        elif activation_min !=-1:\n",
    "            plt.imshow(activation[0,:,:, featuremap], interpolation=\"nearest\", vmin=activation_min, cmap=\"gray\")\n",
    "        else:\n",
    "            plt.imshow(activation[0,:,:, featuremap], interpolation=\"nearest\", cmap=\"gray\")"
   ]
  }
 ],
 "metadata": {
  "anaconda-cloud": {},
  "kernelspec": {
   "display_name": "Python 3",
   "language": "python",
   "name": "python3"
  },
  "language_info": {
   "codemirror_mode": {
    "name": "ipython",
    "version": 3
   },
   "file_extension": ".py",
   "mimetype": "text/x-python",
   "name": "python",
   "nbconvert_exporter": "python",
   "pygments_lexer": "ipython3",
   "version": "3.5.2"
  },
  "widgets": {
   "state": {},
   "version": "1.1.2"
  }
 },
 "nbformat": 4,
 "nbformat_minor": 1
}
